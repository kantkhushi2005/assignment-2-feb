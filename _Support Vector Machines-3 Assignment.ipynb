{
 "cells": [
  {
   "cell_type": "markdown",
   "id": "f3a932e7-63d1-41d5-9e81-f2fe3f930c03",
   "metadata": {},
   "source": [
    "Q1. In order to predict house price based on several characteristics, such as location, square footage,\n",
    "number of bedrooms, etc., you are developing an SVM regression model. Which regression metric in this\n",
    "situation would be the best to employ?\n",
    "\n",
    "For predicting house prices using an SVM regression model, **Mean Absolute Error (MAE)** or **Root Mean Squared Error (RMSE)** are commonly used metrics:\n",
    "\n",
    "- **MAE (Mean Absolute Error):** Measures the average magnitude of errors in predictions, without considering their direction. It is less sensitive to outliers.\n",
    "\n",
    "  \\[\n",
    "  \\text{MAE} = \\frac{1}{N} \\sum_{i=1}^{N} | y_i - \\hat{y}_i |\n",
    "  \\]\n",
    "\n",
    "- **RMSE (Root Mean Squared Error):** Measures the square root of the average of the squared differences between actual and predicted values. It penalizes larger errors more heavily than MAE.\n",
    "\n",
    "  \\[\n",
    "  \\text{RMSE} = \\sqrt{\\frac{1}{N} \\sum_{i=1}^{N} (y_i - \\hat{y}_i)^2}\n",
    "  \\]\n",
    "\n",
    "**Choosing Between MAE and RMSE:**\n",
    "\n",
    "- **MAE** is preferred if you want a metric that is more robust to outliers.\n",
    "- **RMSE** is useful if larger errors are particularly undesirable and you want to penalize them more heavily."
   ]
  },
  {
   "cell_type": "markdown",
   "id": "689ec526-d643-40b8-94de-d53a666e8fc7",
   "metadata": {},
   "source": [
    "Q2. You have built an SVM regression model and are trying to decide between using MSE or R-squared as\n",
    "your evaluation metric. Which metric would be more appropriate if your goal is to predict the actual price\n",
    "of a house as accurately as possible?\n",
    "\n",
    "If your goal is to predict the actual price of a house as accurately as possible, **Mean Squared Error (MSE)** would be more appropriate.\n",
    "\n",
    "**Reason:**\n",
    "\n",
    "- **MSE (Mean Squared Error):** Provides a direct measure of the average squared difference between actual and predicted values. It is sensitive to larger errors, which helps to minimize prediction errors in absolute terms.\n",
    "\n",
    "  \\[\n",
    "  \\text{MSE} = \\frac{1}{N} \\sum_{i=1}^{N} (y_i - \\hat{y}_i)^2\n",
    "  \\]\n",
    "\n",
    "**R-squared** is a relative measure that indicates the proportion of variance explained by the model but does not provide a direct measure of prediction accuracy. Therefore, MSE is preferred for directly evaluating prediction accuracy."
   ]
  },
  {
   "cell_type": "markdown",
   "id": "e1506f78-6d93-449f-90b1-46babf2944c8",
   "metadata": {},
   "source": [
    "Q3. You have a dataset with a significant number of outliers and are trying to select an appropriate\n",
    "regression metric to use with your SVM model. Which metric would be the most appropriate in this\n",
    "scenario?\n",
    "\n",
    "In the presence of significant outliers, **Mean Absolute Error (MAE)** is the most appropriate regression metric to use.\n",
    "\n",
    "**Reason:**\n",
    "\n",
    "- **MAE (Mean Absolute Error):** Measures the average magnitude of errors in predictions without squaring them, making it less sensitive to outliers compared to metrics like MSE or RMSE. This helps provide a more robust evaluation when outliers are present.\n",
    "\n",
    "  \\[\n",
    "  \\text{MAE} = \\frac{1}{N} \\sum_{i=1}^{N} | y_i - \\hat{y}_i |\n",
    "  \\]"
   ]
  },
  {
   "cell_type": "markdown",
   "id": "23535c5a-fe5e-49a7-a6e3-ea26f5f514be",
   "metadata": {},
   "source": [
    "Q4. You have built an SVM regression model using a polynomial kernel and are trying to select the best\n",
    "metric to evaluate its performance. You have calculated both MSE and RMSE and found that both values\n",
    "are very close. Which metric should you choose to use in this case?\n",
    "\n",
    "When MSE and RMSE values are very close, **Root Mean Squared Error (RMSE)** is generally the better choice to evaluate your SVM regression model.\n",
    "\n",
    "**Reason:**\n",
    "\n",
    "- **RMSE (Root Mean Squared Error):** Provides error measurements in the same units as the target variable (e.g., house prices), making it more interpretable and directly comparable to the actual values. It also penalizes larger errors more, which can be useful if minimizing large errors is important.\n",
    "\n",
    "  \\[\n",
    "  \\text{RMSE} = \\sqrt{\\frac{1}{N} \\sum_{i=1}^{N} (y_i - \\hat{y}_i)^2}\n",
    "  \\]"
   ]
  },
  {
   "cell_type": "markdown",
   "id": "07172a24-6dd0-467c-8e2a-58eca8e18324",
   "metadata": {},
   "source": [
    "Q5. You are comparing the performance of different SVM regression models using different kernels (linear,\n",
    "polynomial, and RBF) and are trying to select the best evaluation metric. Which metric would be most\n",
    "appropriate if your goal is to measure how well the model explains the variance in the target variable?\n",
    "\n",
    "If your goal is to measure how well the model explains the variance in the target variable, **R-squared (Coefficient of Determination)** would be the most appropriate evaluation metric.\n",
    "\n",
    "**Reason:**\n",
    "\n",
    "- **R-squared:** Indicates the proportion of variance in the target variable that is explained by the model. It provides a relative measure of how well the model fits the data compared to a baseline model (e.g., mean of the target variable).\n",
    "\n",
    "  \\[\n",
    "  R^2 = 1 - \\frac{\\sum_{i=1}^{N} (y_i - \\hat{y}_i)^2}{\\sum_{i=1}^{N} (y_i - \\bar{y})^2}\n",
    "  \\]\n",
    "\n",
    "R-squared helps you understand the effectiveness of different kernels in capturing the variability in the target variable, making it suitable for comparing model performance in terms of variance explanation."
   ]
  },
  {
   "cell_type": "code",
   "execution_count": null,
   "id": "23a82b86-4867-44a2-aa95-5fe4a57b7cfe",
   "metadata": {},
   "outputs": [],
   "source": []
  }
 ],
 "metadata": {
  "kernelspec": {
   "display_name": "Python 3 (ipykernel)",
   "language": "python",
   "name": "python3"
  },
  "language_info": {
   "codemirror_mode": {
    "name": "ipython",
    "version": 3
   },
   "file_extension": ".py",
   "mimetype": "text/x-python",
   "name": "python",
   "nbconvert_exporter": "python",
   "pygments_lexer": "ipython3",
   "version": "3.10.8"
  }
 },
 "nbformat": 4,
 "nbformat_minor": 5
}
