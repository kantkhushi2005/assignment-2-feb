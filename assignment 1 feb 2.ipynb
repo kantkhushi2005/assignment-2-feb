{
 "cells": [
  {
   "cell_type": "markdown",
   "id": "f0dbe434-a9f9-42f0-b3f6-b662301a6432",
   "metadata": {},
   "source": [
    "Q.1) A tuple is a data structure in Python that is similar to a list but with some key differences. Here are the characteristics of tuples:\n",
    "\n",
    "Ordered: Like lists, tuples are ordered collections of elements. The order in which elements are inserted is maintained.\n",
    "\n",
    "Heterogeneous: Tuples can contain elements of different data types, such as integers, floats, strings, etc.\n",
    "\n",
    "Immutable: One of the main characteristics of tuples is that they are immutable. Once a tuple is created, you cannot change its contents - you cannot add, remove, or modify elements. However, you can create a new tuple with the desired changes.\n",
    "\n",
    "Indexed: Elements in a tuple are accessed using indices, similar to lists. The indexing starts from 0.\n",
    "\n",
    "Iterative: You can iterate over the elements of a tuple using a loop.\n",
    "\n",
    "Here's an example of creating and using a tuple:\n",
    "\n",
    "my_tuple = (1, \"hello\", 3.14)\n",
    "\n",
    "print(my_tuple[0])  # Output: 1\n",
    "\n",
    "for item in my_tuple:\n",
    "    print(item)\n",
    "    \n",
    "So, to answer your question: Yes, tuples are immutable in Python. Once you create a tuple, you cannot change its elements directly. If you need a similar data structure that allows modifications, you might use a list instead.\n",
    "\n",
    "\n"
   ]
  },
  {
   "cell_type": "markdown",
   "id": "bdd27f1a-0a6a-46ad-8efa-bce2e6ec2220",
   "metadata": {},
   "source": [
    "Q.2) In Python, tuples have two built-in methods: count() and index().\n",
    "\n",
    "1. count() Method:\n",
    "\n",
    "This method returns the number of occurrences of a specified value in the tuple.\n",
    "Syntax: tuple.count(value)\n",
    "\n",
    "my_tuple = (1, 2, 3, 2, 4, 2, 5)\n",
    "count_of_2 = my_tuple.count(2)\n",
    "print(count_of_2)  # Output: 3\n",
    "\n",
    "2. index() Method:\n",
    "\n",
    "This method returns the index of the first occurrence of a specified value in the tuple.\n",
    "Syntax: tuple.index(value, start, end)\n",
    "\n",
    "my_tuple = (1, 2, 3, 4, 5)\n",
    "index_of_3 = my_tuple.index(3)\n",
    "print(index_of_3)  # Output: 2\n",
    "\n",
    "Now, as for why tuples have only these two built-in methods compared to lists, it's mainly due to the immutability of tuples. Since tuples cannot be modified after creation, there's less need for methods that involve altering the contents of the tuple. Lists, being mutable, have more methods like append(), extend(), remove(), and others that allow for in-place modifications. The simplicity of tuples, with fewer methods, aligns with their intended use cases where immutability is a desired property. This design choice makes tuples more lightweight and efficient for certain scenarios, such as when you need a fixed collection of items that should not be changed."
   ]
  },
  {
   "cell_type": "markdown",
   "id": "8e430841-0fcf-4347-bf5c-adbe911b3199",
   "metadata": {},
   "source": [
    "Q.3) In Python, the collection datatype that does not allow duplicate items is the set. Sets are unordered collections of unique elements. You can use a set to efficiently remove duplicates from a list. Here's an example:\n",
    "\n",
    "my_list = [1, 1, 1, 2, 1, 3, 1, 4, 2, 1, 2, 2, 2, 3, 2, 4, 3, 1, 3, 2, 3, 3, 3, 4, 4, 1, 4, 2, 4, 3, 4, 4]\n",
    "\n",
    "unique_set = set(my_list)\n",
    "\n",
    "unique_list = list(unique_set)\n",
    "\n",
    "print(unique_list)\n",
    "\n",
    "In this example, set(my_list) creates a set from the original list, automatically removing any duplicate elements. The resulting set is then converted back to a list if the final result needs to be in list form. The order of elements may change when converting to a set since sets are unordered, but duplicate elements are guaranteed to be removed.\n",
    "\n",
    "\n"
   ]
  },
  {
   "cell_type": "markdown",
   "id": "e1771def-4850-4ed3-83ed-ee6f09490812",
   "metadata": {},
   "source": [
    "Q.4) In Python, both the union() and update() methods are used with sets, but they serve slightly different purposes.\n",
    "\n",
    "1. union() Method:\n",
    "\n",
    "The union() method returns a new set containing all the unique elements from the sets involved in the operation. It does not modify the original sets.\n",
    "Syntax: set.union(set1, set2, ...)\n",
    "EXAMPLE:\n",
    "set1 = {1, 2, 3}\n",
    "set2 = {3, 4, 5}\n",
    "\n",
    "result_set = set1.union(set2)\n",
    "\n",
    "print(result_set)  \n",
    "print(set1)        \n",
    "print(set2) \n",
    "\n",
    "2. update() Method:\n",
    "\n",
    "The update() method modifies the set it is called on by adding elements from another set (or iterable) to it. It performs an in-place addition.\n",
    "Syntax: set.update(set1)\n",
    "EXAMPLE:\n",
    "\n",
    "set1 = {1, 2, 3}\n",
    "set2 = {3, 4, 5}\n",
    "\n",
    "set1.update(set2)\n",
    "\n",
    "print(set1)  \n",
    "print(set2) \n",
    "\n",
    "In summary, the key difference is that union() returns a new set without modifying the original sets, while update() modifies the set it is called on by adding elements from another set. Depending on your use case, you may choose one method over the other. If you want to preserve the original sets, use union(). If you don't need the original sets and want to modify one of them in-place, use update().\n",
    "\n"
   ]
  },
  {
   "cell_type": "markdown",
   "id": "cf38f1cd-4533-4e25-a7c8-5220b7b65b98",
   "metadata": {},
   "source": [
    "Q.5) A dictionary in Python is a collection of key-value pairs, where each key must be unique. It is a mutable and versatile data structure that allows you to store and retrieve values based on keys. Dictionaries are defined using curly braces {}, and each key-value pair is separated by a colon :. Here's an example of a dictionary:\n",
    "\n",
    "my_dict = {\n",
    "    'name': 'John',\n",
    "    'age': 25,\n",
    "    'city': 'New York',\n",
    "    'is_student': False\n",
    "}\n",
    "\n",
    "print(my_dict['name'])       \n",
    "print(my_dict['age'])        \n",
    "print(my_dict['is_student'])\n",
    "\n",
    "Dictionaries are unordered collections in Python, up until version 3.7. Starting from Python 3.7, dictionaries maintain the insertion order of their items. This means that when you iterate over the items of a dictionary, they will be in the order in which they were added. This order-preserving behavior is officially guaranteed in Python 3.7 and later versions.\n",
    "\n",
    "In the example above, if you were to iterate over my_dict, the order of the output would be based on the order in which the key-value pairs were added to the dictionary. However, keep in mind that the uniqueness of keys is more crucial than the order of elements in a dictionary.\n"
   ]
  },
  {
   "cell_type": "markdown",
   "id": "cd932530-dad8-4e24-99d5-7592f056e9ff",
   "metadata": {},
   "source": [
    "Q.6) Yes, you can create a nested dictionary in Python. A nested dictionary is a dictionary that contains one or more dictionaries as values. Each key in the outer dictionary maps to another dictionary as its value. Here's an example of a simple one-level nested dictionary:\n",
    "\n",
    "nested_dict = {\n",
    "    'person1': {\n",
    "        'name': 'Alice',\n",
    "        'age': 30,\n",
    "        'city': 'Wonderland'\n",
    "    },\n",
    "    'person2': {\n",
    "        'name': 'Bob',\n",
    "        'age': 25,\n",
    "        'city': 'Cityville'\n",
    "    },\n",
    "    'person3': {\n",
    "        'name': 'Charlie',\n",
    "        'age': 35,\n",
    "        'city': 'Metropolis'\n",
    "    }\n",
    "}\n",
    "\n",
    "print(nested_dict['person1']['name'])  \n",
    "print(nested_dict['person2']['age'])   \n",
    "print(nested_dict['person3']['city'])  \n",
    "\n",
    "In this example, the outer dictionary (nested_dict) has keys ('person1', 'person2', 'person3'), and each key maps to an inner dictionary containing information about a person. The inner dictionaries, in turn, have keys ('name', 'age', 'city') mapping to corresponding values.\n",
    "\n",
    "Nested dictionaries are a useful way to represent structured data with multiple levels of information, and you can nest dictionaries to as many levels as needed for your specific use case.\n"
   ]
  },
  {
   "cell_type": "markdown",
   "id": "baaa80b5-05ba-48f2-afdf-ca70b4252c67",
   "metadata": {},
   "source": [
    "Q.7) Certainly! You can use the setdefault() method to create the 'topics' key in the given dictionary and set its value to the specified list. Here's how you can do it:\n",
    "\n",
    "dict1 = {'language': 'Python', 'course': 'Data Science Masters'}\n",
    "\n",
    "topics_list = ['Python', 'Machine Learning', 'Deep Learning']\n",
    "dict1.setdefault('topics', topics_list)\n",
    "\n",
    "print(dict1)\n",
    "\n",
    "After executing this code, the dictionary dict1 will be modified to include the 'topics' key with the specified list as its value. If the 'topics' key already exists, setdefault() will not modify its value. If it doesn't exist, it will add the key with the specified default value.\n",
    "\n",
    "Note: If you run this code block more than once, it will not change the value associated with the 'topics' key if it has already been set.\n",
    "\n",
    "\n"
   ]
  },
  {
   "cell_type": "markdown",
   "id": "fb6b49df-ee2b-4f52-8821-2a5e30e16194",
   "metadata": {},
   "source": [
    "Q.8) In Python dictionaries, there are three view objects that provide dynamic views of the dictionary's contents. These view objects are:\n",
    "\n",
    "1. dict.keys(): This method returns a view of all the keys in the dictionary.\n",
    "2. dict.values(): This method returns a view of all the values in the dictionary.\n",
    "3. dict.items(): This method returns a view of all the key-value pairs (tuples) in the dictionary.\n",
    "\n",
    "Here's how you can use these methods with the given dictionary dict1:\n",
    "\n",
    "dict1 = {'Sport': 'Cricket', 'Teams': ['India', 'Australia', 'England', 'South Africa', 'Sri Lanka', 'New Zealand']}\n",
    "\n",
    "keys_view = dict1.keys()\n",
    "values_view = dict1.values()\n",
    "items_view = dict1.items()\n",
    "\n",
    "print(\"Keys View:\", keys_view)\n",
    "print(\"Values View:\", values_view)\n",
    "print(\"Items View:\", items_view)\n",
    "\n",
    "The output will look like this:\n",
    "\n",
    "Keys View: dict_keys(['Sport', 'Teams'])\n",
    "Values View: dict_values(['Cricket', ['India', 'Australia', 'England', 'South Africa', 'Sri Lanka', 'New Zealand']])\n",
    "Items View: dict_items([('Sport', 'Cricket'), ('Teams', ['India', 'Australia', 'England', 'South Africa', 'Sri Lanka', 'New Zealand'])])\n",
    "\n",
    "These view objects provide dynamic views of the dictionary, meaning that if the dictionary changes, the views automatically reflect those changes. Note that these views are not lists but can be converted to lists if needed using list().\n"
   ]
  },
  {
   "cell_type": "code",
   "execution_count": 1,
   "id": "9d69296a-c782-446f-80bc-492fe0701134",
   "metadata": {},
   "outputs": [
    {
     "ename": "SyntaxError",
     "evalue": "invalid syntax (774550184.py, line 1)",
     "output_type": "error",
     "traceback": [
      "\u001b[0;36m  Cell \u001b[0;32mIn[1], line 1\u001b[0;36m\u001b[0m\n\u001b[0;31m    echo \"# assignment-2-feb\" >> README.md\u001b[0m\n\u001b[0m         ^\u001b[0m\n\u001b[0;31mSyntaxError\u001b[0m\u001b[0;31m:\u001b[0m invalid syntax\n"
     ]
    }
   ],
   "source": [
    "echo \"# assignment-2-feb\" >> README.md\n",
    "git init\n",
    "git add README.md\n",
    "git commit -m \"first commit\"\n",
    "git branch -M main\n",
    "git remote add origin https://github.com/kantkhushi2005/assignment-2-feb.git\n",
    "git push -u origin main"
   ]
  },
  {
   "cell_type": "code",
   "execution_count": null,
   "id": "5bca9621-af81-42f9-8ea1-71040a59b7d0",
   "metadata": {},
   "outputs": [],
   "source": []
  }
 ],
 "metadata": {
  "kernelspec": {
   "display_name": "Python 3 (ipykernel)",
   "language": "python",
   "name": "python3"
  },
  "language_info": {
   "codemirror_mode": {
    "name": "ipython",
    "version": 3
   },
   "file_extension": ".py",
   "mimetype": "text/x-python",
   "name": "python",
   "nbconvert_exporter": "python",
   "pygments_lexer": "ipython3",
   "version": "3.10.8"
  }
 },
 "nbformat": 4,
 "nbformat_minor": 5
}
