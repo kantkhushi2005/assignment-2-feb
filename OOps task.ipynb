{
 "cells": [
  {
   "cell_type": "markdown",
   "id": "9717bd53-f7e4-4aa1-84b1-b97163080081",
   "metadata": {},
   "source": [
    "Q.1) Below is an example of a Python class called Vehicle with an __init__ method that initializes instance variables for the name of the vehicle, maximum speed, and average speed:"
   ]
  },
  {
   "cell_type": "code",
   "execution_count": 1,
   "id": "27f6a0cd-9d18-4573-b7a3-f78471e3c56f",
   "metadata": {},
   "outputs": [
    {
     "name": "stdout",
     "output_type": "stream",
     "text": [
      "Car Details:\n",
      "Name: Toyota\n",
      "Max Speed: 200\n",
      "Average Speed: 60\n",
      "\n",
      "Motorcycle Details:\n",
      "Name: Harley Davidson\n",
      "Max Speed: 180\n",
      "Average Speed: 40\n"
     ]
    }
   ],
   "source": [
    "class Vehicle:\n",
    "    def __init__(self, name_of_vehicle, max_speed, average_speed):\n",
    "        self.name_of_vehicle = name_of_vehicle\n",
    "        self.max_speed = max_speed\n",
    "        self.average_speed = average_speed\n",
    "        \n",
    "car = Vehicle(\"Toyota\", 200, 60)\n",
    "motorcycle = Vehicle(\"Harley Davidson\", 180, 40)\n",
    "\n",
    "print(\"Car Details:\")\n",
    "print(\"Name:\", car.name_of_vehicle)\n",
    "print(\"Max Speed:\", car.max_speed)\n",
    "print(\"Average Speed:\", car.average_speed)\n",
    "\n",
    "print(\"\\nMotorcycle Details:\")\n",
    "print(\"Name:\", motorcycle.name_of_vehicle)\n",
    "print(\"Max Speed:\", motorcycle.max_speed)\n",
    "print(\"Average Speed:\", motorcycle.average_speed)\n"
   ]
  },
  {
   "cell_type": "markdown",
   "id": "cfd1405b-804f-4f91-8d94-2283acfd6a87",
   "metadata": {},
   "source": [
    "In this example, the Vehicle class has an __init__ method that takes three parameters (name_of_vehicle, max_speed, and average_speed) and initializes the corresponding instance variables. The example usage demonstrates creating instances of the Vehicle class and accessing their attributes."
   ]
  },
  {
   "cell_type": "markdown",
   "id": "9ec23f57-088f-44b7-8a74-a1f85266c164",
   "metadata": {},
   "source": [
    "Q.2) Here's an example of a child class Car derived from the Vehicle class. The Car class includes a method named seating_capacity that takes the seating capacity as an argument and returns a string containing the name of the vehicle and its seating capacity:"
   ]
  },
  {
   "cell_type": "code",
   "execution_count": 1,
   "id": "0739d03d-21db-4379-b8c2-04750af7f092",
   "metadata": {},
   "outputs": [
    {
     "name": "stdout",
     "output_type": "stream",
     "text": [
      "Car Details:\n",
      "Name: Toyota\n",
      "Max Speed: 200\n",
      "Average Speed: 60\n",
      "Toyota has a seating capacity of 5.\n"
     ]
    }
   ],
   "source": [
    "class Vehicle:\n",
    "    def __init__(self, name_of_vehicle, max_speed, average_speed):\n",
    "        self.name_of_vehicle = name_of_vehicle\n",
    "        self.max_speed = max_speed\n",
    "        self.average_speed = average_speed\n",
    "\n",
    "class Car(Vehicle):\n",
    "    def seating_capacity(self, capacity):\n",
    "        return f\"{self.name_of_vehicle} has a seating capacity of {capacity}.\"\n",
    "car = Car(\"Toyota\", 200, 60)\n",
    "print(\"Car Details:\")\n",
    "print(\"Name:\", car.name_of_vehicle)\n",
    "print(\"Max Speed:\", car.max_speed)\n",
    "print(\"Average Speed:\", car.average_speed)\n",
    "capacity_info = car.seating_capacity(5)\n",
    "print(capacity_info)\n"
   ]
  },
  {
   "cell_type": "markdown",
   "id": "705e0ceb-63d5-4d44-9a0e-b67d05acde1d",
   "metadata": {},
   "source": [
    "In this example, the Car class inherits from the Vehicle class, and it introduces a new method seating_capacity. The method takes the seating capacity as an argument and returns a formatted string containing the name of the vehicle and its seating capacity. The example usage demonstrates creating an instance of the Car class and using both inherited attributes and the new method."
   ]
  },
  {
   "cell_type": "markdown",
   "id": "81285f09-bd31-44a6-a786-a9b24f11ba49",
   "metadata": {},
   "source": [
    "Q.3) Multiple inheritance is a feature in object-oriented programming languages that allows a class to inherit attributes and methods from more than one parent class. In Python, a class can inherit from multiple classes by listing them in the parentheses after the class name.\n",
    "\n",
    "Here's an example demonstrating multiple inheritance in Python:"
   ]
  },
  {
   "cell_type": "code",
   "execution_count": 2,
   "id": "799acb51-a086-4fad-b3fc-1c278081f6a2",
   "metadata": {},
   "outputs": [
    {
     "name": "stdout",
     "output_type": "stream",
     "text": [
      "Toyota: Max Speed - 200, Average Speed - 60\n",
      "Engine Info: Fuel Type - Petrol, Horsepower - 150\n"
     ]
    }
   ],
   "source": [
    "class Vehicle:\n",
    "    def __init__(self, name_of_vehicle, max_speed, average_speed):\n",
    "        self.name_of_vehicle = name_of_vehicle\n",
    "        self.max_speed = max_speed\n",
    "        self.average_speed = average_speed\n",
    "\n",
    "    def display_info(self):\n",
    "        print(f\"{self.name_of_vehicle}: Max Speed - {self.max_speed}, Average Speed - {self.average_speed}\")\n",
    "class Engine:\n",
    "    def __init__(self, fuel_type, horsepower):\n",
    "        self.fuel_type = fuel_type\n",
    "        self.horsepower = horsepower\n",
    "\n",
    "    def display_engine_info(self):\n",
    "        print(f\"Engine Info: Fuel Type - {self.fuel_type}, Horsepower - {self.horsepower}\")\n",
    "class Car(Vehicle, Engine):\n",
    "    def __init__(self, name_of_vehicle, max_speed, average_speed, fuel_type, horsepower):\n",
    "        # Call constructors of both parent classes\n",
    "        Vehicle.__init__(self, name_of_vehicle, max_speed, average_speed)\n",
    "        Engine.__init__(self, fuel_type, horsepower)\n",
    "car = Car(\"Toyota\", 200, 60, \"Petrol\", 150)\n",
    "car.display_info()\n",
    "car.display_engine_info()\n"
   ]
  },
  {
   "cell_type": "markdown",
   "id": "5530de63-723f-4018-9746-0612b5832b91",
   "metadata": {},
   "source": [
    "In this example, the Car class inherits from both the Vehicle class and the Engine class. The Car class has access to attributes and methods from both parent classes (display_info from Vehicle and display_engine_info from Engine). This is an example of multiple inheritance in Python."
   ]
  },
  {
   "cell_type": "markdown",
   "id": "d369f838-547f-4a11-8cb7-fb514389d4c4",
   "metadata": {},
   "source": [
    "Q.4) In Python, getter and setter methods are used to control the access and modification of class attributes. They are used to encapsulate the internal representation of an object and provide a controlled way to access or modify its attributes.\n",
    "\n",
    "1. Getter Method: It is used to retrieve the value of a private attribute.\n",
    "\n",
    "2. Setter Method: It is used to modify the value of a private attribute.\n",
    "\n",
    "Here's an example of a Python class with a private attribute and corresponding getter and setter methods:"
   ]
  },
  {
   "cell_type": "code",
   "execution_count": 3,
   "id": "a6d1e4f5-dfe1-4886-8cb9-39c6b05d0d81",
   "metadata": {},
   "outputs": [
    {
     "name": "stdout",
     "output_type": "stream",
     "text": [
      "Value: 42\n"
     ]
    }
   ],
   "source": [
    "class ExampleClass:\n",
    "    def __init__(self):\n",
    "        self._value = None  \n",
    "    def get_value(self):\n",
    "        return self._value\n",
    "    def set_value(self, new_value):\n",
    "        if isinstance(new_value, int):\n",
    "            self._value = new_value\n",
    "        else:\n",
    "            print(\"Invalid value. Please provide an integer.\")\n",
    "example_instance = ExampleClass()\n",
    "example_instance.set_value(42)\n",
    "value = example_instance.get_value()\n",
    "print(\"Value:\", value)\n"
   ]
  },
  {
   "cell_type": "markdown",
   "id": "b21e0e6d-4d60-462d-9fd9-411c936a8993",
   "metadata": {},
   "source": [
    "In this example, ExampleClass has a private attribute _value. The class provides a getter method get_value() to retrieve the value and a setter method set_value() to modify the value. The setter method includes a simple validation to ensure that the new value is an integer. This way, we encapsulate the internal representation of the object and control how the attribute is accessed and modified."
   ]
  },
  {
   "cell_type": "markdown",
   "id": "3937df37-53c8-4f69-b755-f76c38ae5ccf",
   "metadata": {},
   "source": [
    "Q.5) Method overriding in Python occurs when a subclass provides a specific implementation for a method that is already defined in its superclass. The overridden method in the subclass should have the same name, parameters, and return type as the method in the superclass.\n",
    "\n",
    "Here's an example demonstrating method overriding in Python:"
   ]
  },
  {
   "cell_type": "code",
   "execution_count": 4,
   "id": "ad28a897-741b-4492-8195-80f828b48477",
   "metadata": {},
   "outputs": [
    {
     "name": "stdout",
     "output_type": "stream",
     "text": [
      "Generic animal sound\n",
      "Woof! Woof!\n",
      "Meow!\n",
      "Generic animal sound\n"
     ]
    }
   ],
   "source": [
    "class Animal:\n",
    "    def make_sound(self):\n",
    "        print(\"Generic animal sound\")\n",
    "\n",
    "class Dog(Animal):\n",
    "    def make_sound(self):\n",
    "        print(\"Woof! Woof!\")\n",
    "\n",
    "class Cat(Animal):\n",
    "    def make_sound(self):\n",
    "        print(\"Meow!\")\n",
    "\n",
    "class Cow(Animal):\n",
    "    pass  \n",
    "animal = Animal()\n",
    "dog = Dog()\n",
    "cat = Cat()\n",
    "cow = Cow()\n",
    "animal.make_sound()  \n",
    "dog.make_sound()    \n",
    "cat.make_sound()     \n",
    "cow.make_sound()     \n"
   ]
  },
  {
   "cell_type": "markdown",
   "id": "4472a5fb-91a0-4910-8f47-c582393814b4",
   "metadata": {},
   "source": [
    "In this example, the Animal class has a method called make_sound. The Dog, Cat, and Cow classes are subclasses of Animal, and each overrides the make_sound method to provide a specific implementation. When the make_sound method is called on objects of these subclasses, the overridden method in the respective subclass is executed."
   ]
  }
 ],
 "metadata": {
  "kernelspec": {
   "display_name": "Python 3 (ipykernel)",
   "language": "python",
   "name": "python3"
  },
  "language_info": {
   "codemirror_mode": {
    "name": "ipython",
    "version": 3
   },
   "file_extension": ".py",
   "mimetype": "text/x-python",
   "name": "python",
   "nbconvert_exporter": "python",
   "pygments_lexer": "ipython3",
   "version": "3.10.8"
  }
 },
 "nbformat": 4,
 "nbformat_minor": 5
}
