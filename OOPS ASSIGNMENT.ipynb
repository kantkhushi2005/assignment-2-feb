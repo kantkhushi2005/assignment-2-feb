{
 "cells": [
  {
   "cell_type": "markdown",
   "id": "07a70361-4f58-460e-8a78-76e7aa8162df",
   "metadata": {},
   "source": [
    "Q.1) In object-oriented programming (OOP), a class is a blueprint or template for creating objects. It defines a set of attributes (data members) and methods (functions) that characterize any object created from that class. Objects, on the other hand, are instances of a class. They are tangible entities that represent real-world entities or concepts.\n",
    "\n",
    "Let's illustrate this with an example:"
   ]
  },
  {
   "cell_type": "code",
   "execution_count": 1,
   "id": "997c7aa3-64bf-49dc-adc3-988d9d15dca3",
   "metadata": {},
   "outputs": [
    {
     "name": "stdout",
     "output_type": "stream",
     "text": [
      "Car 1: 2022 Toyota Camry\n",
      "Car 2: 2021 Honda Accord\n",
      "2022 Toyota Camry\n",
      "Total number of cars created: 2\n"
     ]
    }
   ],
   "source": [
    "class Car:\n",
    "    car_count = 0\n",
    "    def __init__(self, make, model, year):\n",
    "        self.make = make\n",
    "        self.model = model\n",
    "        self.year = year\n",
    "        Car.car_count += 1\n",
    "    def display_info(self):\n",
    "        print(f\"{self.year} {self.make} {self.model}\")\n",
    "car1 = Car(\"Toyota\", \"Camry\", 2022)\n",
    "car2 = Car(\"Honda\", \"Accord\", 2021)\n",
    "print(f\"Car 1: {car1.year} {car1.make} {car1.model}\")\n",
    "print(f\"Car 2: {car2.year} {car2.make} {car2.model}\")\n",
    "car1.display_info()\n",
    "print(f\"Total number of cars created: {Car.car_count}\")\n"
   ]
  },
  {
   "cell_type": "markdown",
   "id": "33bf3f7f-5962-4452-8013-bbd2bdd527dc",
   "metadata": {},
   "source": [
    "In this example, the Car class serves as a blueprint for creating car objects. The class has attributes like make, model, and year, as well as a method display_info() to print information about the car. Instances of the class (car1 and car2) are created, each representing a specific car with its own set of attributes. The class attribute car_count is used to keep track of the total number of cars created.\n",
    "\n",
    "In summary, a class defines the structure and behavior of objects, and objects are instances of a class, representing specific entities with their own unique attributes and behaviors. OOP allows for the organization of code in a modular and reusable way, promoting concepts like encapsulation, inheritance, and polymorphism."
   ]
  },
  {
   "cell_type": "markdown",
   "id": "dc5d3aaa-4762-425c-951d-b79ec2a68f69",
   "metadata": {},
   "source": [
    "Q.2) The four pillars of object-oriented programming (OOP) are:\n",
    "\n",
    "1. Encapsulation: This refers to the bundling of data (attributes) and methods (functions) that operate on the data into a single unit known as a class. Encapsulation helps in hiding the internal details of how an object operates and exposing only what is necessary. It also involves restricting direct access to some of an object's components.\n",
    "\n",
    "2. Inheritance: Inheritance is a mechanism that allows a new class (subclass or derived class) to inherit the properties and behaviors of an existing class (base class or superclass). This promotes code reuse, as the subclass can reuse the attributes and methods of the superclass and can also provide its own additional features or modifications.\n",
    "\n",
    "3. Abstraction: Abstraction involves simplifying complex systems by modeling classes based on the essential features they share. It allows the programmer to focus on the relevant details of an object and ignore irrelevant details. Abstraction is implemented through abstract classes and interfaces, where the essential characteristics of an object are defined, but specific implementations are left to the subclasses.\n",
    "\n",
    "4. Polymorphism: Polymorphism means \"many forms\" and allows objects of different classes to be treated as objects of a common base class. It allows a single interface to represent different types of objects and enables code to work with objects of various types in a unified manner. Polymorphism can be achieved through method overloading (multiple methods with the same name but different parameters) and method overriding (redefining a method in a subclass).\n",
    "\n",
    "These four pillars provide a foundation for designing and implementing object-oriented systems, promoting principles such as modularity, flexibility, and reusability in software development."
   ]
  },
  {
   "cell_type": "markdown",
   "id": "1b547130-85b0-465d-8262-29683b387e71",
   "metadata": {},
   "source": [
    "Q.3) The __init__() function in Python is a special method, also known as the constructor. It is automatically called when an object is created from a class. The primary purpose of the __init__() method is to initialize the attributes (data members) of the object with default values or values provided during the object's creation. It allows you to set up the initial state of the object.\n",
    "\n",
    "Here's an example to illustrate the use of the __init__() method:"
   ]
  },
  {
   "cell_type": "code",
   "execution_count": 1,
   "id": "1cd8c05c-4d19-40c6-bffb-b8ca217cac14",
   "metadata": {},
   "outputs": [
    {
     "name": "stdout",
     "output_type": "stream",
     "text": [
      "Dog: Buddy, Age: 3, Breed: Labrador\n",
      "Dog: Max, Age: 5, Breed: German Shepherd\n"
     ]
    }
   ],
   "source": [
    "class Dog:\n",
    "    def __init__(self, name, age, breed):\n",
    "        self.name = name\n",
    "        self.age = age\n",
    "        self.breed = breed\n",
    "    def display_info(self):\n",
    "        print(f\"Dog: {self.name}, Age: {self.age}, Breed: {self.breed}\")\n",
    "dog1 = Dog(\"Buddy\", 3, \"Labrador\")\n",
    "dog2 = Dog(\"Max\", 5, \"German Shepherd\")\n",
    "dog1.display_info()\n",
    "dog2.display_info()\n"
   ]
  },
  {
   "cell_type": "markdown",
   "id": "a56e6c4b-dd70-4152-917f-335d7bf06336",
   "metadata": {},
   "source": [
    "In this example, the __init__() method takes three parameters (name, age, and breed) along with the self parameter, which refers to the instance of the class. When we create instances of the Dog class (dog1 and dog2), the __init__() method is automatically called, initializing the attributes (name, age, and breed) with the values provided during the object creation.\n",
    "\n",
    "Using the __init__() method ensures that each object created from the class starts with a well-defined initial state. It helps in organizing and managing the state of objects, making the code more readable and maintainable. Additionally, it allows for better control over how objects are instantiated and sets the stage for the object to be used effectively."
   ]
  },
  {
   "cell_type": "markdown",
   "id": "d5d4935e-e275-4785-b425-b0c543556eee",
   "metadata": {},
   "source": [
    "Q.4) In object-oriented programming (OOP), self is a convention used to represent the instance of the class. It is the first parameter in the method definition within a class, and it refers to the instance on which the method is called. The use of self is crucial for several reasons:\n",
    "\n",
    "1. Instance Reference:\n",
    "In a class, self refers to the instance of the class. It allows you to access the attributes and methods of the object within the class. Without self, the interpreter would not know which instance the method is referring to.\n",
    "\n",
    "2. Attribute Access:\n",
    "When defining or accessing instance variables (attributes) within a class, you use self to distinguish them from local variables. For example, self.name refers to the instance variable name of the object.\n",
    "\n",
    "3. Method Invocation:\n",
    "When a method is called on an object (e.g., obj.method()), the instance on which the method is called is passed as the first argument (self). This allows the method to operate on the specific instance's data.\n",
    "\n",
    "4. Instance Creation:\n",
    "During the instantiation of an object (creating an instance of a class), the self parameter is automatically passed to the __init__() method. This allows you to initialize the attributes of the newly created object.\n",
    "\n",
    "Here's a simple example to illustrate the use of self:"
   ]
  },
  {
   "cell_type": "code",
   "execution_count": 2,
   "id": "e83602b9-e573-4b7d-b750-2429a5a19958",
   "metadata": {},
   "outputs": [
    {
     "name": "stdout",
     "output_type": "stream",
     "text": [
      "Instance value: 42\n"
     ]
    }
   ],
   "source": [
    "class MyClass:\n",
    "    def __init__(self, value):\n",
    "        self.value = value\n",
    "\n",
    "    def display_value(self):\n",
    "        print(f\"Instance value: {self.value}\")\n",
    "obj = MyClass(42)\n",
    "obj.display_value()\n"
   ]
  },
  {
   "cell_type": "markdown",
   "id": "e413e71d-93ae-4f27-b7f0-ab601766d831",
   "metadata": {},
   "source": [
    "In this example, self is used within the __init__() method to refer to the instance being created (obj). Later, in the display_value() method, self is used to access the instance variable value of the specific instance (obj). The use of self ensures proper instance-specific behavior and data access in OOP."
   ]
  },
  {
   "cell_type": "markdown",
   "id": "378f7887-85a1-4a8a-8c7e-c7b46ca55f47",
   "metadata": {},
   "source": [
    "Q.5) Inheritance is a fundamental concept in object-oriented programming (OOP) that allows a new class to inherit attributes and behaviors (methods) from an existing class. This promotes code reuse and establishes a relationship between the classes, where the new class is called the derived class or subclass, and the existing class is called the base class or superclass.\n",
    "\n",
    "There are several types of inheritance, and here are examples for each:\n",
    "\n",
    "1. Single Inheritance:\n",
    "\n",
    "Single inheritance involves a derived class inheriting from only one base class. In this scenario, the derived class inherits the attributes and methods of the single base class.\n"
   ]
  },
  {
   "cell_type": "code",
   "execution_count": 3,
   "id": "17bbf1e5-eb04-4169-ab53-a48438e034fb",
   "metadata": {},
   "outputs": [
    {
     "name": "stdout",
     "output_type": "stream",
     "text": [
      "Animal speaks\n",
      "Dog barks\n"
     ]
    }
   ],
   "source": [
    "class Animal:\n",
    "    def speak(self):\n",
    "        print(\"Animal speaks\")\n",
    "\n",
    "class Dog(Animal):  \n",
    "    def bark(self):\n",
    "        print(\"Dog barks\")\n",
    "my_dog = Dog()\n",
    "my_dog.speak()  \n",
    "my_dog.bark()   \n"
   ]
  },
  {
   "cell_type": "markdown",
   "id": "26f5ded0-c3a0-4434-b2f7-b143f8568203",
   "metadata": {},
   "source": [
    "2. Multiple Inheritance:\n",
    "\n",
    "Multiple inheritance occurs when a derived class inherits from more than one base class. The derived class gains attributes and methods from multiple base classes."
   ]
  },
  {
   "cell_type": "code",
   "execution_count": 4,
   "id": "0e774cfb-ccdb-47e6-b32f-628de5e90bfb",
   "metadata": {},
   "outputs": [
    {
     "name": "stdout",
     "output_type": "stream",
     "text": [
      "Can fly\n",
      "Can swim\n"
     ]
    }
   ],
   "source": [
    "class Flyable:\n",
    "    def fly(self):\n",
    "        print(\"Can fly\")\n",
    "\n",
    "class Swimmable:\n",
    "    def swim(self):\n",
    "        print(\"Can swim\")\n",
    "\n",
    "class FlyingFish(Flyable, Swimmable):  \n",
    "    pass\n",
    "my_flying_fish = FlyingFish()\n",
    "my_flying_fish.fly()   \n",
    "my_flying_fish.swim()  \n"
   ]
  },
  {
   "cell_type": "markdown",
   "id": "c9067c4c-07d5-4a04-a6e1-853e70dc3219",
   "metadata": {},
   "source": [
    "3. Multilevel Inheritance:\n",
    "\n",
    "Multilevel inheritance involves a chain of inheritance with more than two levels. A subclass inherits from another subclass, creating a hierarchy."
   ]
  },
  {
   "cell_type": "code",
   "execution_count": 5,
   "id": "9e0939a0-93bb-4091-bc3c-0f0f56b46b66",
   "metadata": {},
   "outputs": [
    {
     "name": "stdout",
     "output_type": "stream",
     "text": [
      "Vehicle moves\n",
      "Car drives\n",
      "SportsCar races\n"
     ]
    }
   ],
   "source": [
    "class Vehicle:\n",
    "    def move(self):\n",
    "        print(\"Vehicle moves\")\n",
    "\n",
    "class Car(Vehicle):  \n",
    "    def drive(self):\n",
    "        print(\"Car drives\")\n",
    "\n",
    "class SportsCar(Car):  \n",
    "    def race(self):\n",
    "        print(\"SportsCar races\")\n",
    "\n",
    "my_sports_car = SportsCar()\n",
    "\n",
    "my_sports_car.move()   \n",
    "my_sports_car.drive()\n",
    "my_sports_car.race()   \n"
   ]
  },
  {
   "cell_type": "markdown",
   "id": "8ce9e70a-e0bb-4735-a04b-60fbbd49c5ac",
   "metadata": {},
   "source": [
    "These examples illustrate the concepts of single, multiple, and multilevel inheritance, showcasing how new classes can inherit and extend the functionality of existing classes."
   ]
  }
 ],
 "metadata": {
  "kernelspec": {
   "display_name": "Python 3 (ipykernel)",
   "language": "python",
   "name": "python3"
  },
  "language_info": {
   "codemirror_mode": {
    "name": "ipython",
    "version": 3
   },
   "file_extension": ".py",
   "mimetype": "text/x-python",
   "name": "python",
   "nbconvert_exporter": "python",
   "pygments_lexer": "ipython3",
   "version": "3.10.8"
  }
 },
 "nbformat": 4,
 "nbformat_minor": 5
}
