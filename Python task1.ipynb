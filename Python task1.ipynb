{
 "cells": [
  {
   "cell_type": "markdown",
   "id": "42492b7a-6581-4c57-8dfb-bd7d0341eb98",
   "metadata": {},
   "source": [
    "Q.1) To achieve this, we need to create a flat list containing all numeric values from the given list, and then calculate the product of those numbers. Here's a Python function that accomplishes this:"
   ]
  },
  {
   "cell_type": "code",
   "execution_count": 1,
   "id": "863973c1-9d40-4278-a853-a9290738b708",
   "metadata": {},
   "outputs": [
    {
     "name": "stdout",
     "output_type": "stream",
     "text": [
      "Product of all numbers in the list: 0\n"
     ]
    }
   ],
   "source": [
    "def product_of_numbers(input_list):\n",
    "    flat_list = []\n",
    "\n",
    "    def flatten(lst):\n",
    "        for item in lst:\n",
    "            if isinstance(item, (list, tuple, set)):\n",
    "                flatten(item)\n",
    "            elif isinstance(item, dict):\n",
    "                flatten(item.values())\n",
    "                flatten(item.keys())\n",
    "            elif isinstance(item, (int, float)):\n",
    "                flat_list.append(item)\n",
    "\n",
    "    flatten(input_list)\n",
    "\n",
    "    if not flat_list:\n",
    "        return None\n",
    "\n",
    "    product = 1\n",
    "    for num in flat_list:\n",
    "        product *= num\n",
    "\n",
    "    return product\n",
    "\n",
    "list1 = [1, 2, 3, 4, [44, 55, 66, True], False, (34, 56, 78, 89, 34), {1, 2, 3, 3, 2, 1},\n",
    "         {1: 34, \"key2\": [55, 67, 78, 89], 4: (45, 22, 61, 34)}, [56, 'data science'], 'Machine Learning']\n",
    "\n",
    "result = product_of_numbers(list1)\n",
    "\n",
    "print(\"Product of all numbers in the list:\", result)\n"
   ]
  },
  {
   "cell_type": "markdown",
   "id": "ccdb1858-79f0-4272-94ed-fe11456d9a65",
   "metadata": {},
   "source": [
    "This function extracts numeric values from the given list, considering nested structures and dictionary keys and values. It then calculates the product of all the extracted numeric values."
   ]
  },
  {
   "cell_type": "markdown",
   "id": "611acc3b-d983-48e6-92cb-4289e5b1c0e6",
   "metadata": {},
   "source": [
    "Q.2) Below is a Python program that encrypts a message based on the logic you provided:"
   ]
  },
  {
   "cell_type": "code",
   "execution_count": 4,
   "id": "ca866ce7-4397-4c8f-9817-e1323409f26d",
   "metadata": {},
   "outputs": [
    {
     "name": "stdout",
     "output_type": "stream",
     "text": [
      "Encrypted Message: r$dzmg$gl$yvxlnv$z$wzgz$hxrvmgrhg.\n"
     ]
    }
   ],
   "source": [
    "def encrypt_message(message):\n",
    "    encrypted_text = \"\"\n",
    "    for char in message:\n",
    "        if char.isalpha():\n",
    "            if char.islower():\n",
    "                encrypted_text += chr(ord('z') - (ord(char) - ord('a')))\n",
    "            else:\n",
    "                encrypted_text += chr(ord('Z') - (ord(char) - ord('A')))\n",
    "        elif char.isspace():\n",
    "            encrypted_text += '$'\n",
    "        else:\n",
    "            encrypted_text += char\n",
    "\n",
    "    return encrypted_text\n",
    "input_sentence = \"I want to become a Data Scientist.\"\n",
    "lowercase_input = input_sentence.lower()\n",
    "encrypted_result = encrypt_message(lowercase_input)\n",
    "print(\"Encrypted Message:\", encrypted_result)\n"
   ]
  },
  {
   "cell_type": "markdown",
   "id": "2d2f1ddf-3f26-4e4b-87b7-38bb479db040",
   "metadata": {},
   "source": [
    "This program takes an input sentence, converts it to lowercase, and then encrypts it based on the specified logic. Alphabets are replaced according to the given logic, whitespace is replaced with a dollar sign, and punctuation marks remain unchanged. The final output is in lowercase."
   ]
  }
 ],
 "metadata": {
  "kernelspec": {
   "display_name": "Python 3 (ipykernel)",
   "language": "python",
   "name": "python3"
  },
  "language_info": {
   "codemirror_mode": {
    "name": "ipython",
    "version": 3
   },
   "file_extension": ".py",
   "mimetype": "text/x-python",
   "name": "python",
   "nbconvert_exporter": "python",
   "pygments_lexer": "ipython3",
   "version": "3.10.8"
  }
 },
 "nbformat": 4,
 "nbformat_minor": 5
}
