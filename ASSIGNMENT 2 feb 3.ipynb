{
 "cells": [
  {
   "cell_type": "markdown",
   "id": "9afd128e-a34d-4014-8173-91647f600d68",
   "metadata": {},
   "source": [
    "Q.1)In Python, the keyword used to create a function is 'def'. Here's an example of a function that returns a list of odd numbers in the range of 1 to 25:"
   ]
  },
  {
   "cell_type": "code",
   "execution_count": 2,
   "id": "ce6f1d99-2630-4c99-91cc-3d24a3ccff1d",
   "metadata": {},
   "outputs": [
    {
     "name": "stdout",
     "output_type": "stream",
     "text": [
      "[1, 3, 5, 7, 9, 11, 13, 15, 17, 19, 21, 23, 25]\n"
     ]
    }
   ],
   "source": [
    "def get_odd_numbers():\n",
    "    odd_numbers = [num for num in range(1, 26) if num % 2 != 0]\n",
    "    return odd_numbers\n",
    "result_list = get_odd_numbers()\n",
    "\n",
    "print(result_list)\n"
   ]
  },
  {
   "cell_type": "markdown",
   "id": "b34bb88d-e65f-4641-800c-9fd421d401f8",
   "metadata": {},
   "source": [
    "In this example, the get_odd_numbers() function uses a list comprehension to generate a list of odd numbers in the specified range (1 to 25). The function then returns this list, and when the function is called, the result is stored in the variable result_list and printed. The output will be:"
   ]
  },
  {
   "cell_type": "markdown",
   "id": "7c6f9629-3bbf-4e3b-acc9-60de90a6e543",
   "metadata": {},
   "source": [
    "Q.2) *args and **kwargs are used in function definitions to allow the function to accept a variable number of arguments.\n",
    "\n",
    "1. *args:\n",
    "\n",
    "It allows a function to accept any number of positional arguments. The *args syntax allows you to pass a variable number of non-keyword arguments to a function.\n",
    "\n",
    "EXAMPLE:"
   ]
  },
  {
   "cell_type": "code",
   "execution_count": 4,
   "id": "c8e6b26d-f4e9-4ab1-aa6e-b206e6dfaa68",
   "metadata": {},
   "outputs": [
    {
     "name": "stdout",
     "output_type": "stream",
     "text": [
      "1\n",
      "2\n",
      "3\n",
      "a\n",
      "b\n",
      "c\n"
     ]
    }
   ],
   "source": [
    "def print_args(*args):\n",
    "    for arg in args:\n",
    "        print(arg)\n",
    "print_args(1, 2, 3)        \n",
    "print_args('a', 'b', 'c')  \n"
   ]
  },
  {
   "cell_type": "markdown",
   "id": "819a46e5-3cd2-48cb-9d91-292d2e96b44a",
   "metadata": {},
   "source": [
    "2. **kwargs:\n",
    "\n",
    "It allows a function to accept any number of keyword arguments. The **kwargs syntax allows you to pass a variable number of keyword arguments to a function.\n",
    "\n",
    "EXAMPLE:"
   ]
  },
  {
   "cell_type": "code",
   "execution_count": 5,
   "id": "ec227dca-d5c0-4cd0-a86f-fb7b88e58d6c",
   "metadata": {},
   "outputs": [
    {
     "name": "stdout",
     "output_type": "stream",
     "text": [
      "name: Alice\n",
      "age: 25\n",
      "course: Python\n",
      "duration: 2 weeks\n"
     ]
    }
   ],
   "source": [
    "def print_kwargs(**kwargs):\n",
    "    for key, value in kwargs.items():\n",
    "        print(f\"{key}: {value}\")\n",
    "print_kwargs(name='Alice', age=25)                \n",
    "print_kwargs(course='Python', duration='2 weeks') \n"
   ]
  },
  {
   "cell_type": "markdown",
   "id": "59f9ddd1-c04d-4138-9a34-2093f46f0f5d",
   "metadata": {},
   "source": [
    "These constructs provide flexibility when designing functions that need to handle different numbers of arguments. *args is used for positional arguments, and **kwargs is used for keyword arguments. It's important to note that args and kwargs are just naming conventions; you could use other names, but these are widely recognized in the Python community.\n"
   ]
  },
  {
   "cell_type": "markdown",
   "id": "31967418-0adb-4dfa-a364-0bdd7d315559",
   "metadata": {},
   "source": [
    "Q.3) An iterator in Python is an object that represents a stream of data and can be iterated (looped) over. It implements two methods, __iter__() and __next__(), that allow an object to be an iterable. The __iter__() method initializes the iterator object, and the __next__() method is called during iteration to get the next value from the iterator.\n",
    "\n",
    "To print the first five elements of a list using an iterator, you can use the built-in iter() function to create an iterator object and then repeatedly call next() to get the next element. Here's an example:"
   ]
  },
  {
   "cell_type": "code",
   "execution_count": 6,
   "id": "652861ff-7dae-48e6-a483-a124c5fce94d",
   "metadata": {},
   "outputs": [
    {
     "name": "stdout",
     "output_type": "stream",
     "text": [
      "2\n",
      "4\n",
      "6\n",
      "8\n",
      "10\n"
     ]
    }
   ],
   "source": [
    "my_list = [2, 4, 6, 8, 10, 12, 14, 16, 18, 20]\n",
    "my_iterator = iter(my_list)\n",
    "for _ in range(5):\n",
    "    element = next(my_iterator)\n",
    "    print(element)\n"
   ]
  },
  {
   "cell_type": "markdown",
   "id": "caaac23c-d170-43cd-9ffa-fb7f03ecb80d",
   "metadata": {},
   "source": [
    "In this example, iter(my_list) initializes the iterator object (my_iterator), and then a for loop is used to call next() five times to print the first five elements of the list. Note that if you try to go beyond the end of the list using next(), a StopIteration exception will be raised, indicating the end of the iteration."
   ]
  },
  {
   "cell_type": "markdown",
   "id": "4f7fa753-3a9b-4433-a0a9-414a30831bff",
   "metadata": {},
   "source": [
    "Q.4) A generator function in Python is a special type of function that allows you to iterate over a potentially large set of data without having to store the entire sequence in memory. It generates values one at a time using the yield keyword. Unlike regular functions that return a value and lose their state, generator functions maintain their state between calls, allowing them to be paused and resumed.\n",
    "\n",
    "The yield keyword is used to produce a value from the generator and temporarily suspend the function's state until the next value is requested. This helps in saving memory as the entire sequence is not generated and stored at once.\n",
    "\n",
    "Here's an example of a generator function that generates a sequence of square numbers:"
   ]
  },
  {
   "cell_type": "code",
   "execution_count": 7,
   "id": "82aa65d4-5df8-474d-9918-84490b189dfe",
   "metadata": {},
   "outputs": [
    {
     "name": "stdout",
     "output_type": "stream",
     "text": [
      "0\n",
      "1\n",
      "4\n",
      "9\n",
      "16\n"
     ]
    }
   ],
   "source": [
    "def generate_squares(n):\n",
    "    for i in range(n):\n",
    "        yield i ** 2\n",
    "squares_generator = generate_squares(5)\n",
    "for square in squares_generator:\n",
    "    print(square)\n"
   ]
  },
  {
   "cell_type": "markdown",
   "id": "478a7bd3-1384-4407-bf51-59c8de481f87",
   "metadata": {},
   "source": [
    "In this example, generate_squares is a generator function that produces the square of numbers from 0 to n-1. When you iterate over squares_generator, the function is executed up to the yield statement, and the generated value is returned. The function's state is then suspended until the next iteration, allowing for efficient memory usage when dealing with large sequences."
   ]
  },
  {
   "cell_type": "markdown",
   "id": "d727dc66-4a5c-4d32-a04c-7b3323be3c57",
   "metadata": {},
   "source": [
    "Q.5) Certainly! Here's a generator function that generates prime numbers less than 1000, and then we use the next() method to print the first 20 prime numbers:"
   ]
  },
  {
   "cell_type": "code",
   "execution_count": 8,
   "id": "d3a5c5e3-229d-4f3e-836d-3447482dbccf",
   "metadata": {},
   "outputs": [
    {
     "name": "stdout",
     "output_type": "stream",
     "text": [
      "2\n",
      "3\n",
      "5\n",
      "7\n",
      "11\n",
      "13\n",
      "17\n",
      "19\n",
      "23\n",
      "29\n",
      "31\n",
      "37\n",
      "41\n",
      "43\n",
      "47\n",
      "53\n",
      "59\n",
      "61\n",
      "67\n",
      "71\n"
     ]
    }
   ],
   "source": [
    "def generate_primes():\n",
    "    primes = []\n",
    "    num = 2\n",
    "    while True:\n",
    "        is_prime = all(num % p != 0 for p in primes)\n",
    "        if is_prime:\n",
    "            yield num\n",
    "            primes.append(num)\n",
    "        num += 1\n",
    "primes_generator = generate_primes()\n",
    "\n",
    "for _ in range(20):\n",
    "    prime_number = next(primes_generator)\n",
    "    print(prime_number)\n"
   ]
  },
  {
   "cell_type": "markdown",
   "id": "8c6593de-3023-4cd6-a434-e25f9938451e",
   "metadata": {},
   "source": [
    "This generator function generate_primes() produces an infinite sequence of prime numbers. It uses a list primes to store previously discovered primes and checks whether the current number is divisible by any of the previously found primes. If not, it yields the prime number and adds it to the list of known primes.\n",
    "\n",
    "The loop then uses the next() method to retrieve and print the first 20 prime numbers from the generator. The while True loop ensures that the generator can produce an infinite sequence of primes.\n"
   ]
  }
 ],
 "metadata": {
  "kernelspec": {
   "display_name": "Python 3 (ipykernel)",
   "language": "python",
   "name": "python3"
  },
  "language_info": {
   "codemirror_mode": {
    "name": "ipython",
    "version": 3
   },
   "file_extension": ".py",
   "mimetype": "text/x-python",
   "name": "python",
   "nbconvert_exporter": "python",
   "pygments_lexer": "ipython3",
   "version": "3.10.8"
  }
 },
 "nbformat": 4,
 "nbformat_minor": 5
}
