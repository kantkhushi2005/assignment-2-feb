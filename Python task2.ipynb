{
 "cells": [
  {
   "cell_type": "markdown",
   "id": "23e10371-9269-4501-8725-d3fb45bbb269",
   "metadata": {},
   "source": [
    "Q.1) Below is a Python function that checks whether a given password meets the specified requirements or not:"
   ]
  },
  {
   "cell_type": "code",
   "execution_count": 1,
   "id": "8309ff38-9d7a-49fa-90e6-545e1cea5caf",
   "metadata": {},
   "outputs": [
    {
     "name": "stdin",
     "output_type": "stream",
     "text": [
      "Enter the password:  KHUSHI1234\n"
     ]
    },
    {
     "name": "stdout",
     "output_type": "stream",
     "text": [
      "Invalid Password\n"
     ]
    }
   ],
   "source": [
    "import re\n",
    "\n",
    "def check_password(password):\n",
    "    if len(password) != 10:\n",
    "        return \"Invalid Password\"\n",
    "    if sum(1 for char in password if char.isupper()) < 2 or sum(1 for char in password if char.islower()) < 2:\n",
    "        return \"Invalid Password\"\n",
    "    digit_count = sum(1 for char in password if char.isdigit())\n",
    "    special_char_count = sum(1 for char in password if char in \"!@#$%^&*()_+\")\n",
    "\n",
    "    if digit_count < 1 or special_char_count < 3:\n",
    "        return \"Invalid Password\"\n",
    "    return \"Valid Password\"\n",
    "user_password = input(\"Enter the password: \")\n",
    "result = check_password(user_password)\n",
    "print(result)\n"
   ]
  },
  {
   "cell_type": "markdown",
   "id": "ea0bf16c-3580-46f4-b967-0e1fbeccd91e",
   "metadata": {},
   "source": [
    "This function uses regular expressions to check for uppercase and lowercase letters, digits, and special characters. It then applies the specified criteria and returns either \"Valid Password\" or \"Invalid Password\" accordingly."
   ]
  },
  {
   "cell_type": "markdown",
   "id": "ecdfe2d5-5ab0-4562-a94f-ac50a4fb4991",
   "metadata": {},
   "source": [
    "Q.2) Let's solve each of the given questions using the mentioned functions or techniques:\n",
    "\n",
    "1. Check if the string starts with a particular letter:"
   ]
  },
  {
   "cell_type": "code",
   "execution_count": 2,
   "id": "112c5ead-7a8e-489a-bcff-f5f554f99cdd",
   "metadata": {},
   "outputs": [
    {
     "name": "stdout",
     "output_type": "stream",
     "text": [
      "True\n"
     ]
    }
   ],
   "source": [
    "starts_with_letter = lambda s, letter: s.startswith(letter)\n",
    "result = starts_with_letter(\"Hello, World!\", \"H\")\n",
    "print(result)  "
   ]
  },
  {
   "cell_type": "markdown",
   "id": "36f455be-82e6-4564-8b5c-25c6c12c0737",
   "metadata": {},
   "source": [
    "2. Check if the string is numeric:"
   ]
  },
  {
   "cell_type": "code",
   "execution_count": 5,
   "id": "acd19677-f714-41c3-b310-41fad250252d",
   "metadata": {},
   "outputs": [
    {
     "name": "stdout",
     "output_type": "stream",
     "text": [
      "True\n"
     ]
    }
   ],
   "source": [
    "is_numeric = lambda s: s.isnumeric()\n",
    "result = is_numeric(\"123\")\n",
    "print(result) "
   ]
  },
  {
   "cell_type": "markdown",
   "id": "01ab98db-dc50-4ed6-a56d-b59f7d7b068e",
   "metadata": {},
   "source": [
    "3. Sort a list of tuples having fruit names and their quantity:"
   ]
  },
  {
   "cell_type": "code",
   "execution_count": 4,
   "id": "bdb13177-bd47-4add-8526-5da6df69acad",
   "metadata": {},
   "outputs": [
    {
     "name": "stdout",
     "output_type": "stream",
     "text": [
      "[('orange', 80), ('mango', 99), ('grapes', 1000)]\n"
     ]
    }
   ],
   "source": [
    "fruits_quantity = [(\"mango\", 99), (\"orange\", 80), (\"grapes\", 1000)]\n",
    "sorted_fruits = sorted(fruits_quantity, key=lambda x: x[1])\n",
    "print(sorted_fruits)"
   ]
  },
  {
   "cell_type": "markdown",
   "id": "70222163-7542-45ec-9d70-b33070079281",
   "metadata": {},
   "source": [
    "4. Find the squares of numbers from 1 to 10:"
   ]
  },
  {
   "cell_type": "code",
   "execution_count": 6,
   "id": "d26778f1-3ea7-40a8-bdd3-418d95bee901",
   "metadata": {},
   "outputs": [
    {
     "name": "stdout",
     "output_type": "stream",
     "text": [
      "[1, 4, 9, 16, 25, 36, 49, 64, 81, 100]\n"
     ]
    }
   ],
   "source": [
    "squares = [x**2 for x in range(1, 11)]\n",
    "print(squares)"
   ]
  },
  {
   "cell_type": "markdown",
   "id": "cb2c92fb-4c55-461b-9012-12ae0372eae1",
   "metadata": {},
   "source": [
    "5. Find the cube root of numbers from 1 to 10:"
   ]
  },
  {
   "cell_type": "code",
   "execution_count": 7,
   "id": "266bddd1-734f-428e-a27a-e053c39275d0",
   "metadata": {},
   "outputs": [
    {
     "name": "stdout",
     "output_type": "stream",
     "text": [
      "[1.0, 1.2599210498948732, 1.4422495703074083, 1.5874010519681994, 1.7099759466766968, 1.8171205928321397, 1.912931182772389, 2.0, 2.080083823051904, 2.154434690031884]\n"
     ]
    }
   ],
   "source": [
    "import math\n",
    "cube_roots = [math.pow(x, 1/3) for x in range(1, 11)]\n",
    "print(cube_roots)"
   ]
  },
  {
   "cell_type": "markdown",
   "id": "23e402e7-ab7a-4fa4-82c9-cefe5885c987",
   "metadata": {},
   "source": [
    "6. Check if a given number is even:"
   ]
  },
  {
   "cell_type": "code",
   "execution_count": 8,
   "id": "01ecaa0e-be72-4a3b-8bda-2c60c1d75c72",
   "metadata": {},
   "outputs": [
    {
     "name": "stdout",
     "output_type": "stream",
     "text": [
      "True\n"
     ]
    }
   ],
   "source": [
    "is_even = lambda x: x % 2 == 0\n",
    "result = is_even(4)\n",
    "print(result)  "
   ]
  },
  {
   "cell_type": "markdown",
   "id": "817eb48d-3a1d-48a5-b4db-b4046e2a2e50",
   "metadata": {},
   "source": [
    "7. Filter odd numbers from the given list:"
   ]
  },
  {
   "cell_type": "code",
   "execution_count": 9,
   "id": "797b7e41-6ece-4cdc-bc60-e1ad7d8d9cfd",
   "metadata": {},
   "outputs": [
    {
     "name": "stdout",
     "output_type": "stream",
     "text": [
      "[1, 3, 5, 7, 9]\n"
     ]
    }
   ],
   "source": [
    "numbers = [1, 2, 3, 4, 5, 6, 7, 8, 9, 10]\n",
    "odd_numbers = list(filter(lambda x: x % 2 != 0, numbers))\n",
    "print(odd_numbers)"
   ]
  },
  {
   "cell_type": "markdown",
   "id": "4c1dfcc6-b3d2-4208-8372-a92791d1e9c9",
   "metadata": {},
   "source": [
    "8. Sort a list of integers into positive and negative integers lists:"
   ]
  },
  {
   "cell_type": "code",
   "execution_count": 10,
   "id": "2ae0a3ed-d510-43bd-99b5-4139e8e84819",
   "metadata": {},
   "outputs": [
    {
     "name": "stdout",
     "output_type": "stream",
     "text": [
      "Positive Integers: [1, 2, 3, 4, 5, 6]\n",
      "Negative Integers: [-1, -2, -3, -4, -5]\n"
     ]
    }
   ],
   "source": [
    "integers = [1, 2, 3, 4, 5, 6, -1, -2, -3, -4, -5, 0]\n",
    "positive_integers = [x for x in integers if x > 0]\n",
    "negative_integers = [x for x in integers if x < 0]\n",
    "print(\"Positive Integers:\", positive_integers)\n",
    "print(\"Negative Integers:\", negative_integers)"
   ]
  }
 ],
 "metadata": {
  "kernelspec": {
   "display_name": "Python 3 (ipykernel)",
   "language": "python",
   "name": "python3"
  },
  "language_info": {
   "codemirror_mode": {
    "name": "ipython",
    "version": 3
   },
   "file_extension": ".py",
   "mimetype": "text/x-python",
   "name": "python",
   "nbconvert_exporter": "python",
   "pygments_lexer": "ipython3",
   "version": "3.10.8"
  }
 },
 "nbformat": 4,
 "nbformat_minor": 5
}
