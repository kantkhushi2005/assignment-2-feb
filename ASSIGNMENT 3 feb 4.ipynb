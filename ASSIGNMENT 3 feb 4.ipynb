{
 "cells": [
  {
   "cell_type": "markdown",
   "id": "feb038ce-c96b-4059-95ac-964561f27ba1",
   "metadata": {},
   "source": [
    "Q.1) Q1. Here's a Python program that sorts the given list of tuples based on the integer value using a lambda function:"
   ]
  },
  {
   "cell_type": "code",
   "execution_count": 1,
   "id": "86837b7b-d49b-4c1c-becf-d862b2de876f",
   "metadata": {},
   "outputs": [
    {
     "name": "stdout",
     "output_type": "stream",
     "text": [
      "Sorted List of Tuples:\n",
      "('Virat Kohli', 24936)\n",
      "('Jack Kallis', 25534)\n",
      "('Ricky Ponting', 27483)\n",
      "('Sachin Tendulkar', 34357)\n"
     ]
    }
   ],
   "source": [
    "data = [('Sachin Tendulkar', 34357), ('Ricky Ponting', 27483), ('Jack Kallis', 25534), ('Virat Kohli', 24936)]\n",
    "sorted_data = sorted(data, key=lambda x: x[1])\n",
    "print(\"Sorted List of Tuples:\")\n",
    "for item in sorted_data:\n",
    "    print(item)\n"
   ]
  },
  {
   "cell_type": "markdown",
   "id": "32c008e9-b57b-44d7-a46f-896eb95a1f6f",
   "metadata": {},
   "source": [
    "This program uses the sorted function with a lambda function as the key argument to specify that the sorting should be based on the second element (integer value) of each tuple. The sorted list is then printed.\n"
   ]
  },
  {
   "cell_type": "markdown",
   "id": "b48fbd9e-5d3b-4488-b641-ba9b567c41aa",
   "metadata": {},
   "source": [
    "Q.2) Here's a Python program that uses lambda and map functions to find the squares of all the numbers in the given list of integers:"
   ]
  },
  {
   "cell_type": "code",
   "execution_count": 2,
   "id": "60a6598a-01c5-4930-88ec-2f3ac7d2c116",
   "metadata": {},
   "outputs": [
    {
     "name": "stdout",
     "output_type": "stream",
     "text": [
      "Squares of the numbers:\n",
      "[1, 4, 9, 16, 25, 36, 49, 64, 81, 100]\n"
     ]
    }
   ],
   "source": [
    "numbers = [1, 2, 3, 4, 5, 6, 7, 8, 9, 10]\n",
    "squares = list(map(lambda x: x**2, numbers))\n",
    "print(\"Squares of the numbers:\")\n",
    "print(squares)\n"
   ]
  },
  {
   "cell_type": "markdown",
   "id": "8b64de6a-c8ca-40a4-99c9-2c54697d26a0",
   "metadata": {},
   "source": [
    "In this program, the map function is used to apply the lambda function to each element of the given list. The lambda function calculates the square of each number. The result is then converted to a list and printed."
   ]
  },
  {
   "cell_type": "markdown",
   "id": "b8e80792-0b2e-4507-80b9-677444dd5782",
   "metadata": {},
   "source": [
    "Q.3) Here's a Python program that uses the map and lambda functions to convert the given list of integers into a tuple of strings:"
   ]
  },
  {
   "cell_type": "code",
   "execution_count": 3,
   "id": "2a984b76-d23f-433f-9505-432e37b1795f",
   "metadata": {},
   "outputs": [
    {
     "name": "stdout",
     "output_type": "stream",
     "text": [
      "Tuple of Strings:\n",
      "('1', '2', '3', '4', '5', '6', '7', '8', '9', '10')\n"
     ]
    }
   ],
   "source": [
    "numbers = [1, 2, 3, 4, 5, 6, 7, 8, 9, 10]\n",
    "string_tuple = tuple(map(lambda x: str(x), numbers))\n",
    "print(\"Tuple of Strings:\")\n",
    "print(string_tuple)\n"
   ]
  },
  {
   "cell_type": "markdown",
   "id": "9a404ed6-de61-4f8f-94b2-fd997e0091d1",
   "metadata": {},
   "source": [
    "In this program, the map function is used to apply the lambda function to each element of the given list, converting each integer to its string representation. The result is then converted to a tuple and printed."
   ]
  },
  {
   "cell_type": "markdown",
   "id": "6f80b78b-ba5d-4026-bad3-fb8686fa01a1",
   "metadata": {},
   "source": [
    "Q.4) Here's a Python program that uses the reduce function from the functools module to compute the product of a list containing numbers from 1 to 25:"
   ]
  },
  {
   "cell_type": "code",
   "execution_count": 4,
   "id": "874d0327-eb05-452c-9073-3d1b0ca929d8",
   "metadata": {},
   "outputs": [
    {
     "name": "stdout",
     "output_type": "stream",
     "text": [
      "Product of the numbers from 1 to 25:\n",
      "15511210043330985984000000\n"
     ]
    }
   ],
   "source": [
    "from functools import reduce\n",
    "numbers = list(range(1, 26))\n",
    "product = reduce(lambda x, y: x * y, numbers)\n",
    "print(\"Product of the numbers from 1 to 25:\")\n",
    "print(product)\n"
   ]
  },
  {
   "cell_type": "markdown",
   "id": "d25d2057-d7dc-4b79-a0cd-3fbc9e64b0a0",
   "metadata": {},
   "source": [
    "In this program, the reduce function takes a lambda function and the list of numbers as arguments. The lambda function defines the multiplication operation, and reduce applies this function cumulatively to the elements of the list, resulting in the product of all numbers. The final product is then printed."
   ]
  },
  {
   "cell_type": "markdown",
   "id": "fdf65ee1-7d78-41f0-b313-8cb6feaf5ed6",
   "metadata": {},
   "source": [
    "Q.5) Here's a Python program that uses the filter function to filter numbers in a given list that are divisible by both 2 and 3:\n"
   ]
  },
  {
   "cell_type": "code",
   "execution_count": 5,
   "id": "01e59d1a-822b-4499-89a5-273527b20ca9",
   "metadata": {},
   "outputs": [
    {
     "name": "stdout",
     "output_type": "stream",
     "text": [
      "Numbers divisible by 2 and 3:\n",
      "[6, 60, 90, 120]\n"
     ]
    }
   ],
   "source": [
    "numbers = [2, 3, 6, 9, 27, 60, 90, 120, 55, 46]\n",
    "filtered_numbers = list(filter(lambda x: x % 2 == 0 and x % 3 == 0, numbers))\n",
    "print(\"Numbers divisible by 2 and 3:\")\n",
    "print(filtered_numbers)\n"
   ]
  },
  {
   "cell_type": "markdown",
   "id": "46225ab5-e740-41ca-bd06-105271ef3c19",
   "metadata": {},
   "source": [
    "In this program, the filter function is used with a lambda function as the filtering criterion. The lambda function checks if a number is divisible by both 2 and 3. The result is then converted to a list and printed."
   ]
  },
  {
   "cell_type": "markdown",
   "id": "4be0802a-caab-4e4a-a6d2-617c9adfac79",
   "metadata": {},
   "source": [
    "Q.6) Here's a Python program that uses the filter function and a lambda function to find palindromes in the given list of strings:"
   ]
  },
  {
   "cell_type": "code",
   "execution_count": 6,
   "id": "d23b7f51-3dd6-43da-b1ea-c555df219b12",
   "metadata": {},
   "outputs": [
    {
     "name": "stdout",
     "output_type": "stream",
     "text": [
      "Palindromes in the list:\n",
      "['php', 'aba', 'radar', 'level']\n"
     ]
    }
   ],
   "source": [
    "strings = ['python', 'php', 'aba', 'radar', 'level']\n",
    "palindromes = list(filter(lambda x: x == x[::-1], strings))\n",
    "print(\"Palindromes in the list:\")\n",
    "print(palindromes)\n"
   ]
  },
  {
   "cell_type": "markdown",
   "id": "84ee7112-f60c-4d5e-9d28-1dbc5eb57972",
   "metadata": {},
   "source": [
    "In this program, the filter function is applied with a lambda function as the filtering criterion. The lambda function checks if a string is equal to its reverse (x == x[::-1]), indicating that it is a palindrome. The result is then converted to a list and printed."
   ]
  }
 ],
 "metadata": {
  "kernelspec": {
   "display_name": "Python 3 (ipykernel)",
   "language": "python",
   "name": "python3"
  },
  "language_info": {
   "codemirror_mode": {
    "name": "ipython",
    "version": 3
   },
   "file_extension": ".py",
   "mimetype": "text/x-python",
   "name": "python",
   "nbconvert_exporter": "python",
   "pygments_lexer": "ipython3",
   "version": "3.10.8"
  }
 },
 "nbformat": 4,
 "nbformat_minor": 5
}
